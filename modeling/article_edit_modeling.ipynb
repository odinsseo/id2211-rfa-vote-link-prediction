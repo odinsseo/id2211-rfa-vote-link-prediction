{
 "cells": [
  {
   "cell_type": "markdown",
   "id": "b4c070fc",
   "metadata": {},
   "source": [
    "# Wikipedia Admin Election Prediction Model\n",
    "\n",
    "This notebook implements a logistic regression model to predict the outcome of Wikipedia administrator elections based on article edit interactions between voters and candidates. The model uses features extracted from the edit history to predict whether a voter will support or oppose a candidate's nomination.\n",
    "\n",
    "## Data and Feature Overview\n",
    "The model uses features extracted from Wikipedia article edit histories, including:\n",
    "- Interaction patterns between voters and candidates\n",
    "- Temporal aspects of their interactions\n",
    "- Edit characteristics and behaviors\n",
    "\n",
    "These features are combined with actual voting records to train and evaluate the prediction model."
   ]
  },
  {
   "cell_type": "markdown",
   "id": "57f749a5",
   "metadata": {},
   "source": [
    "## Setup and Dependencies\n",
    "First, we import the necessary libraries:\n",
    "- `glob`: For file pattern matching\n",
    "- `numpy` and `pandas`: For data manipulation\n",
    "- `sklearn`: For machine learning components\n",
    "- `tqdm`: For progress tracking"
   ]
  },
  {
   "cell_type": "code",
   "execution_count": null,
   "id": "057d6420",
   "metadata": {},
   "outputs": [],
   "source": [
    "import glob\n",
    "from sklearn.model_selection import train_test_split\n",
    "import pandas as pd\n",
    "from tqdm.notebook import tqdm\n",
    "from sklearn.linear_model import LogisticRegressionCV\n",
    "from sklearn.preprocessing import MinMaxScaler\n",
    "from sklearn.metrics import roc_auc_score, roc_curve\n",
    "import matplotlib.pyplot as plt\n",
    "import seaborn as sns"
   ]
  },
  {
   "cell_type": "markdown",
   "id": "429f29dc",
   "metadata": {},
   "source": [
    "## Data Loading and Split\n",
    "We load the feature files containing article edit interactions and split them into training and test sets. Each file contains features for specific voter-candidate pairs on different dates. We use an 80-20 train-test split with a fixed random seed for reproducibility."
   ]
  },
  {
   "cell_type": "code",
   "execution_count": 3,
   "id": "a7dc2df5",
   "metadata": {},
   "outputs": [],
   "source": [
    "files = glob.glob(\"../data/features/article_edits.*.csv\")\n",
    "fit, test = train_test_split(files, test_size=0.2, random_state=42)"
   ]
  },
  {
   "cell_type": "markdown",
   "id": "9eff70d9",
   "metadata": {},
   "source": [
    "## Data Processing\n",
    "The `load_data` function performs several key steps:\n",
    "1. Loads individual feature files and combines them\n",
    "2. Adds timestamp information from file names\n",
    "3. Renames user columns for clarity\n",
    "4. Merges with actual voting data\n",
    "5. Cleans up the dataset by removing missing values"
   ]
  },
  {
   "cell_type": "code",
   "execution_count": 4,
   "id": "c3622e8c",
   "metadata": {},
   "outputs": [],
   "source": [
    "votes = pd.read_csv(\"../data/votes_with_election_info.csv\")\n",
    "votes[\"start_time\"] = pd.to_datetime(votes[\"start_time\"]).dt.strftime(\"%Y-%m-%d\")\n",
    "\n",
    "def load_data(files: list[str]) -> pd.DataFrame:\n",
    "    data = []\n",
    "\n",
    "    for file in tqdm(files):\n",
    "        df = pd.read_csv(file)\n",
    "        date = file.split(\".\")[3]\n",
    "        df[\"start_time\"] = date\n",
    "\n",
    "        data.append(df)\n",
    "\n",
    "    data = pd.concat(data, ignore_index=True)\n",
    "\n",
    "    map = {\"user1\": \"voter\", \"user2\": \"candidate\"}\n",
    "    data.rename(columns=map, inplace=True)\n",
    "    features = data.merge(votes, how=\"left\", on=[\"voter\", \"candidate\", \"start_time\"], suffixes=(None, None))\n",
    "    features = features[list(data.columns) + [\"vote\"]]\n",
    "    features.dropna(inplace=True)\n",
    "    features.drop(columns=[\"start_time\"], inplace=True)\n",
    "\n",
    "    return features"
   ]
  },
  {
   "cell_type": "code",
   "execution_count": 25,
   "id": "e8f87d8d",
   "metadata": {},
   "outputs": [
    {
     "data": {
      "application/vnd.jupyter.widget-view+json": {
       "model_id": "12d4e6c8a3d749beaea32ae6efca8122",
       "version_major": 2,
       "version_minor": 0
      },
      "text/plain": [
       "  0%|          | 0/436 [00:00<?, ?it/s]"
      ]
     },
     "metadata": {},
     "output_type": "display_data"
    },
    {
     "data": {
      "application/vnd.jupyter.widget-view+json": {
       "model_id": "373708356fd44e39af8b17f9d8580790",
       "version_major": 2,
       "version_minor": 0
      },
      "text/plain": [
       "  0%|          | 0/110 [00:00<?, ?it/s]"
      ]
     },
     "metadata": {},
     "output_type": "display_data"
    }
   ],
   "source": [
    "train_data = load_data(fit)\n",
    "test_data = load_data(test)"
   ]
  },
  {
   "cell_type": "markdown",
   "id": "7199559d",
   "metadata": {},
   "source": [
    "## Feature Preprocessing\n",
    "The `extract_data` function prepares the features for modeling:\n",
    "1. Removes neutral votes (vote = 0)\n",
    "2. Converts votes to binary format (1 for support, 0 for oppose)\n",
    "3. Applies min-max scaling to normalize features\n",
    "4. Returns processed features, labels, and the fitted scaler"
   ]
  },
  {
   "cell_type": "code",
   "execution_count": 50,
   "id": "065ba801",
   "metadata": {},
   "outputs": [],
   "source": [
    "def extract_data(data: pd.DataFrame, scaler: MinMaxScaler = None) -> tuple[pd.DataFrame, pd.Series, MinMaxScaler]:\n",
    "    df = data.copy()\n",
    "    df = df[df[\"vote\"] != 0]\n",
    "    df[\"vote\"] = df[\"vote\"].apply(lambda x: 1 if x == 1 else 0)\n",
    "\n",
    "    column_filter = df.columns[2:-1]\n",
    "    if scaler is None:\n",
    "        scaler = MinMaxScaler()\n",
    "        scaler.fit(df[column_filter])\n",
    "    df[column_filter] = scaler.transform(df[column_filter])\n",
    "\n",
    "    return df[column_filter], df[\"vote\"], scaler"
   ]
  },
  {
   "cell_type": "markdown",
   "id": "c7e15aac",
   "metadata": {},
   "source": [
    "## Model Training\n",
    "We use `LogisticRegressionCV` with the following configuration:\n",
    "- L1 regularization (Lasso) to perform feature selection\n",
    "- 5-fold cross-validation\n",
    "- ROC-AUC scoring metric\n",
    "- Parallel processing for faster training"
   ]
  },
  {
   "cell_type": "code",
   "execution_count": 51,
   "id": "cb9f8b68",
   "metadata": {},
   "outputs": [],
   "source": [
    "X_train, y_train, scaler = extract_data(train_data)"
   ]
  },
  {
   "cell_type": "code",
   "execution_count": 67,
   "id": "b7b33c60",
   "metadata": {},
   "outputs": [],
   "source": [
    "model = LogisticRegressionCV(\n",
    "    penalty=\"l1\",\n",
    "    solver=\"liblinear\",\n",
    "    cv=5,\n",
    "    scoring=\"roc_auc\",\n",
    "    n_jobs=-1,\n",
    "    random_state=42,\n",
    ")\n",
    "model = model.fit(X_train, y_train)"
   ]
  },
  {
   "cell_type": "markdown",
   "id": "3b8f24b7",
   "metadata": {},
   "source": [
    "## Feature Importance Analysis\n",
    "We examine the model coefficients to understand which features are most important for predicting voting behavior. Positive coefficients indicate features associated with support votes, while negative coefficients suggest features linked to oppose votes."
   ]
  },
  {
   "cell_type": "code",
   "execution_count": 65,
   "id": "a4e3dcb7",
   "metadata": {},
   "outputs": [
    {
     "name": "stdout",
     "output_type": "stream",
     "text": [
      "collaboration: 0.2562\n",
      "pairwise_jaccard: -0.0170\n",
      "participation_entropy: 0.8442\n",
      "mutual_information: 0.1058\n",
      "jaccard: 0.2060\n",
      "adamic_adar: 0.0452\n",
      "pref_attachment: 0.0201\n",
      "pagerank_1: -0.1261\n",
      "pagerank_2: 0.2255\n"
     ]
    }
   ],
   "source": [
    "for column, coef in zip(train_data.columns[2:-1], model.coef_.reshape(-1)):\n",
    "    print(f\"{column}: {coef:.4f}\")"
   ]
  },
  {
   "cell_type": "markdown",
   "id": "c2cc2520",
   "metadata": {},
   "source": [
    "## Model Evaluation\n",
    "We evaluate the model's performance on the test set using the ROC-AUC score, which measures the model's ability to distinguish between support and oppose votes. A score of 0.5 indicates random guessing, while 1.0 represents perfect prediction."
   ]
  },
  {
   "cell_type": "code",
   "execution_count": 68,
   "id": "207f8ce8",
   "metadata": {},
   "outputs": [
    {
     "data": {
      "text/plain": [
       "(2610, 9)"
      ]
     },
     "execution_count": 68,
     "metadata": {},
     "output_type": "execute_result"
    }
   ],
   "source": [
    "X_test, y_test, scaler = extract_data(test_data, scaler)\n",
    "X_test.shape"
   ]
  },
  {
   "cell_type": "code",
   "execution_count": 69,
   "id": "26d2a2da",
   "metadata": {},
   "outputs": [
    {
     "name": "stdout",
     "output_type": "stream",
     "text": [
      "Test AUC: 0.5155\n"
     ]
    }
   ],
   "source": [
    "y_pred = model.predict_proba(X_test)[:, 1]\n",
    "auc = roc_auc_score(y_test, y_pred)\n",
    "print(f\"Test AUC: {auc:.4f}\")"
   ]
  },
  {
   "cell_type": "markdown",
   "id": "48a824c8",
   "metadata": {},
   "source": [
    "## ROC Curve Visualization\n",
    "The Receiver Operating Characteristic (ROC) curve visualizes the model's performance across different classification thresholds:\n",
    "- X-axis: False Positive Rate (proportion of incorrect oppose predictions)\n",
    "- Y-axis: True Positive Rate (proportion of correct support predictions)\n",
    "- Diagonal line: Random classifier performance\n",
    "- Area Under the Curve (AUC): Overall model performance metric"
   ]
  },
  {
   "cell_type": "code",
   "execution_count": 70,
   "id": "b5d116d9",
   "metadata": {},
   "outputs": [
    {
     "data": {
      "text/plain": [
       "<matplotlib.legend.Legend at 0x29eee559990>"
      ]
     },
     "execution_count": 70,
     "metadata": {},
     "output_type": "execute_result"
    },
    {
     "data": {
      "image/png": "[encoded data removed]",
      "text/plain": [
       "<Figure size 800x600 with 1 Axes>"
      ]
     },
     "metadata": {},
     "output_type": "display_data"
    }
   ],
   "source": [
    "# Set seaborn style and palette\n",
    "sns.set_style(\"whitegrid\")\n",
    "sns.set_palette(\"colorblind\")\n",
    "\n",
    "# Calculate ROC curve\n",
    "fpr, tpr, _ = roc_curve(y_test, y_pred)\n",
    "\n",
    "# Create plot\n",
    "plt.figure(figsize=(8,6))\n",
    "sns.lineplot(x=fpr, y=tpr, label=f'ROC curve (AUC = {auc:.3f})')\n",
    "sns.lineplot(x=[0, 1], y=[0, 1], color='gray', linestyle='--', label='Random guessing')\n",
    "plt.xlim([0.0, 1.0])\n",
    "plt.ylim([0.0, 1.05])\n",
    "plt.xlabel('False Positive Rate')\n",
    "plt.ylabel('True Positive Rate')\n",
    "plt.title('Receiver Operating Characteristic (ROC) Curve')\n",
    "plt.legend(loc='lower right')"
   ]
  }
 ],
 "metadata": {
  "kernelspec": {
   "display_name": "Python 3",
   "language": "python",
   "name": "python3"
  },
  "language_info": {
   "codemirror_mode": {
    "name": "ipython",
    "version": 3
   },
   "file_extension": ".py",
   "mimetype": "text/x-python",
   "name": "python",
   "nbconvert_exporter": "python",
   "pygments_lexer": "ipython3",
   "version": "3.11.5"
  }
 },
 "nbformat": 4,
 "nbformat_minor": 5
}
